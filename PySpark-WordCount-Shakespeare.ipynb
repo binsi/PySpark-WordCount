{
 "cells": [
  {
   "cell_type": "markdown",
   "metadata": {},
   "source": [
    "# Count top 24 words from Shakespeare using Apache Spark"
   ]
  },
  {
   "cell_type": "markdown",
   "metadata": {},
   "source": [
    "Follow this excellent guide to use PySpark and Jupyter on your Windows system: \n",
    "https://changhsinlee.com/install-pyspark-windows-jupyter/"
   ]
  },
  {
   "cell_type": "code",
   "execution_count": 1,
   "metadata": {},
   "outputs": [],
   "source": [
    "import findspark # pip install findspark\n",
    "findspark.init(\"C:/YOUR-PATH-TO-SPARK\") # insert path where spark is installed\n",
    "# NOTE: if you copy the path from your explorer, don't forget to replace the \"\\\" with \"/\" since python interprets them as escape characters"
   ]
  },
  {
   "cell_type": "code",
   "execution_count": 2,
   "metadata": {},
   "outputs": [],
   "source": [
    "from pyspark import SparkContext\n",
    "from operator import add"
   ]
  },
  {
   "cell_type": "code",
   "execution_count": 3,
   "metadata": {},
   "outputs": [],
   "source": [
    "spark = SparkContext(appName=\"Wordcount\")\n",
    "contentRDD =spark.textFile(\"stripped_shakespeare.txt\") # this is an RDD; insert filename"
   ]
  },
  {
   "cell_type": "markdown",
   "metadata": {},
   "source": [
    "## Do the actual counting - sorting - printing"
   ]
  },
  {
   "cell_type": "code",
   "execution_count": 4,
   "metadata": {},
   "outputs": [],
   "source": [
    "# counts is an rdd is of the form (word, count)\n",
    "counts = contentRDD.flatMap(lambda x: [(w.lower(), 1) for w in x.split()]).reduceByKey(add)\n",
    "\n",
    "# collect brings it to a list in local memory\n",
    "output = counts.collect()"
   ]
  },
  {
   "cell_type": "code",
   "execution_count": 5,
   "metadata": {},
   "outputs": [],
   "source": [
    "# this would print the whole list of counted words\n",
    "# for (word, count) in output:\n",
    "#     print(\"%s: %i\" % (word, count))"
   ]
  },
  {
   "cell_type": "code",
   "execution_count": 6,
   "metadata": {},
   "outputs": [],
   "source": [
    "# sort the list of tuples by the count value\n",
    "sorted_output = sorted(output, key=lambda x: x[1], reverse=True)"
   ]
  },
  {
   "cell_type": "code",
   "execution_count": 7,
   "metadata": {},
   "outputs": [
    {
     "name": "stdout",
     "output_type": "stream",
     "text": [
      "[('the', 27482), ('and', 25991), ('i', 19540), ('to', 18656), ('of', 17952), ('a', 14365), ('my', 12455), ('in', 10660), ('you', 10597), ('that', 10473), ('is', 9115), ('for', 7948), ('with', 7923), ('not', 7633), ('your', 6861), ('his', 6749), ('be', 6684), ('he', 5884), ('but', 5881), ('as', 5875), ('this', 5859), ('it', 5858), ('have', 5675), ('thou', 5138)]\n"
     ]
    }
   ],
   "source": [
    "# Print the first 24 entries of the sorted_output list of tuples\n",
    "print(sorted_output[:24])"
   ]
  },
  {
   "cell_type": "markdown",
   "metadata": {},
   "source": [
    "## IMPORTANT! Kill the Spark process"
   ]
  },
  {
   "cell_type": "code",
   "execution_count": 8,
   "metadata": {},
   "outputs": [],
   "source": [
    "spark.stop()"
   ]
  }
 ],
 "metadata": {
  "kernelspec": {
   "display_name": "Python 3",
   "language": "python",
   "name": "python3"
  },
  "language_info": {
   "codemirror_mode": {
    "name": "ipython",
    "version": 3
   },
   "file_extension": ".py",
   "mimetype": "text/x-python",
   "name": "python",
   "nbconvert_exporter": "python",
   "pygments_lexer": "ipython3",
   "version": "3.6.3"
  }
 },
 "nbformat": 4,
 "nbformat_minor": 2
}
